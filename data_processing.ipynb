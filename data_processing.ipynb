{
 "cells": [
  {
   "cell_type": "code",
   "execution_count": 2,
   "metadata": {},
   "outputs": [],
   "source": [
    "import sys\n",
    "import os\n",
    "import networkx as nx\n",
    "from os.path import basename\n",
    "from tqdm import tqdm"
   ]
  },
  {
   "cell_type": "code",
   "execution_count": null,
   "metadata": {},
   "outputs": [],
   "source": [
    "#### Output\n",
    "def create_outfile(data,path):\n",
    "    DS_A = \n",
    "    DS_graph_indicator = \n",
    "    DS_graph_labels = \n",
    "    DS_node_labels = \n"
   ]
  },
  {
   "cell_type": "code",
   "execution_count": 5,
   "metadata": {},
   "outputs": [],
   "source": [
    "def loadSDF(filename):\n",
    "    \"\"\"load data from structured data file (.sdf file).\n",
    "\n",
    "    Notes\n",
    "    ------\n",
    "    A SDF file contains a group of molecules, represented in the similar way as in MOL format.\n",
    "    Check http://www.nonlinear.com/progenesis/sdf-studio/v0.9/faq/sdf-file-format-guidance.aspx, 2018 for detailed structure.\n",
    "    \"\"\"\n",
    "    data = []\n",
    "    with open(filename) as f:\n",
    "        content = f.read().splitlines()\n",
    "        index = 0\n",
    "        pbar = tqdm(total=len(content) + 1, desc='load SDF', file=sys.stdout)\n",
    "        while index < len(content):\n",
    "            index_old = index\n",
    "\n",
    "            g = nx.Graph(name=content[index].strip())  # set name of the graph\n",
    "\n",
    "            tmp = content[index + 3]\n",
    "            nb_nodes = int(tmp[:3])  # number of the nodes\n",
    "            nb_edges = int(tmp[3:6])  # number of the edges\n",
    "\n",
    "            for i in range(0, nb_nodes):\n",
    "                tmp = content[i + index + 4]\n",
    "                g.add_node(i, atom=tmp[31:34].strip())\n",
    "\n",
    "            for i in range(0, nb_edges):\n",
    "                tmp = content[i + index + g.number_of_nodes() + 4]\n",
    "                tmp = [tmp[i:i + 3] for i in range(0, len(tmp), 3)]\n",
    "                g.add_edge(\n",
    "                    int(tmp[0]) - 1, int(tmp[1]) - 1, bond_type=tmp[2].strip())\n",
    "\n",
    "            data.append(g)\n",
    "\n",
    "            index += 4 + g.number_of_nodes() + g.number_of_edges()\n",
    "            while content[index].strip() != '$$$$':  # seperator\n",
    "                index += 1\n",
    "            index += 1\n",
    "\n",
    "            pbar.update(index - index_old)\n",
    "        pbar.update(1)\n",
    "        pbar.close()\n",
    "\n",
    "    return data\n",
    "\n",
    "def get_node_label_num(Gn,node_label='atom'):\n",
    "    nl = set()\n",
    "    for G in Gn:\n",
    "        nl = nl | set(nx.get_node_attributes(G, node_label).values())\n",
    "    return len(nl)\n",
    "\n",
    "def get_node_label(Gn,node_label='atom'):\n",
    "    nl = set()\n",
    "    for G in Gn:\n",
    "        nl = nl | set(nx.get_node_attributes(G, node_label).values())\n",
    "    return nl"
   ]
  },
  {
   "cell_type": "code",
   "execution_count": 88,
   "metadata": {},
   "outputs": [
    {
     "name": "stdout",
     "output_type": "stream",
     "text": [
      "load SDF: 100%|██████████████████████████████████████████████████████████| 2388974/2388974 [00:07<00:00, 333356.34it/s]\n"
     ]
    }
   ],
   "source": [
    "sdf = 'data/1-balance.sdf'\n",
    "sdf = 'data/NCI_full/81total-connect.sdf'\n",
    "Gn = loadSDF(sdf)\n",
    "\n"
   ]
  },
  {
   "cell_type": "code",
   "execution_count": 89,
   "metadata": {},
   "outputs": [],
   "source": [
    "node_label_num = get_node_label_num(Gn)\n",
    "node_label = sorted(get_node_label(Gn))"
   ]
  },
  {
   "cell_type": "code",
   "execution_count": 90,
   "metadata": {},
   "outputs": [
    {
     "data": {
      "text/plain": [
       "64"
      ]
     },
     "execution_count": 90,
     "metadata": {},
     "output_type": "execute_result"
    }
   ],
   "source": [
    "node_label_num"
   ]
  },
  {
   "cell_type": "code",
   "execution_count": 66,
   "metadata": {},
   "outputs": [
    {
     "data": {
      "text/plain": [
       "NodeView((0, 1, 2, 3, 4, 5, 6, 7, 8, 9, 10, 11, 12, 13, 14, 15, 16, 17, 18, 19, 20, 21, 22, 23))"
      ]
     },
     "execution_count": 66,
     "metadata": {},
     "output_type": "execute_result"
    }
   ],
   "source": [
    "Gn[0].nodes"
   ]
  },
  {
   "cell_type": "code",
   "execution_count": 33,
   "metadata": {},
   "outputs": [
    {
     "data": {
      "text/plain": [
       "EdgeView([(0, 6), (1, 6), (2, 22), (2, 23), (3, 22), (4, 9), (4, 12), (5, 8), (5, 20), (6, 11), (7, 8), (7, 9), (7, 11), (8, 10), (9, 13), (10, 12), (10, 15), (11, 14), (12, 16), (13, 17), (14, 17), (15, 18), (16, 19), (18, 19), (20, 21), (21, 22)])"
      ]
     },
     "execution_count": 33,
     "metadata": {},
     "output_type": "execute_result"
    }
   ],
   "source": [
    "Gn[0].edges"
   ]
  },
  {
   "cell_type": "code",
   "execution_count": 57,
   "metadata": {},
   "outputs": [
    {
     "data": {
      "text/plain": [
       "['O',\n",
       " 'O',\n",
       " 'O',\n",
       " 'O',\n",
       " 'N',\n",
       " 'N',\n",
       " 'N',\n",
       " 'C',\n",
       " 'C',\n",
       " 'C',\n",
       " 'C',\n",
       " 'C',\n",
       " 'C',\n",
       " 'C',\n",
       " 'C',\n",
       " 'C',\n",
       " 'C',\n",
       " 'C',\n",
       " 'C',\n",
       " 'C',\n",
       " 'C',\n",
       " 'C',\n",
       " 'C',\n",
       " 'C']"
      ]
     },
     "execution_count": 57,
     "metadata": {},
     "output_type": "execute_result"
    }
   ],
   "source": [
    "list(nx.get_node_attributes(Gn[1],'atom').values())"
   ]
  },
  {
   "cell_type": "code",
   "execution_count": null,
   "metadata": {},
   "outputs": [],
   "source": []
  }
 ],
 "metadata": {
  "kernelspec": {
   "display_name": "Python 3",
   "language": "python",
   "name": "python3"
  },
  "language_info": {
   "codemirror_mode": {
    "name": "ipython",
    "version": 3
   },
   "file_extension": ".py",
   "mimetype": "text/x-python",
   "name": "python",
   "nbconvert_exporter": "python",
   "pygments_lexer": "ipython3",
   "version": "3.7.3"
  }
 },
 "nbformat": 4,
 "nbformat_minor": 2
}
