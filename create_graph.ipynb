{
 "cells": [
  {
   "cell_type": "code",
   "execution_count": 4,
   "metadata": {},
   "outputs": [],
   "source": [
    "import os\n",
    "import sys\n",
    "import json\n",
    "import time\n",
    "import random\n",
    "from sklearn.model_selection import train_test_split"
   ]
  },
  {
   "cell_type": "code",
   "execution_count": 29,
   "metadata": {},
   "outputs": [],
   "source": [
    "import torch\n",
    "import numpy as np"
   ]
  },
  {
   "cell_type": "code",
   "execution_count": 25,
   "metadata": {},
   "outputs": [],
   "source": [
    "a = torch.FloatTensor([0.0 if i != 0 else 1.0 for i in range(2)])"
   ]
  },
  {
   "cell_type": "code",
   "execution_count": 40,
   "metadata": {},
   "outputs": [],
   "source": [
    "a = [1,1]"
   ]
  },
  {
   "cell_type": "code",
   "execution_count": 41,
   "metadata": {},
   "outputs": [],
   "source": [
    "a.append(2) if a[0] == 0 else a.append(4)"
   ]
  },
  {
   "cell_type": "code",
   "execution_count": 42,
   "metadata": {},
   "outputs": [
    {
     "data": {
      "text/plain": [
       "[1, 1, 4]"
      ]
     },
     "execution_count": 42,
     "metadata": {},
     "output_type": "execute_result"
    }
   ],
   "source": [
    "a"
   ]
  },
  {
   "cell_type": "code",
   "execution_count": 37,
   "metadata": {},
   "outputs": [
    {
     "data": {
      "text/plain": [
       "False"
      ]
     },
     "execution_count": 37,
     "metadata": {},
     "output_type": "execute_result"
    }
   ],
   "source": [
    "(a[1] ==1) == False"
   ]
  },
  {
   "cell_type": "code",
   "execution_count": null,
   "metadata": {},
   "outputs": [],
   "source": []
  },
  {
   "cell_type": "code",
   "execution_count": 2,
   "metadata": {},
   "outputs": [],
   "source": [
    "path = './data/NCI_txt/NCI-H23/'"
   ]
  },
  {
   "cell_type": "code",
   "execution_count": 3,
   "metadata": {},
   "outputs": [],
   "source": [
    "edges_raw = open('%sNCI-H23_A.txt'%path).read().split('\\n')[:-1]\n",
    "graph_ID_of_nodes = open('%sNCI-H23_graph_indicator.txt'%path).read().split('\\n')[:-1]\n",
    "node_labels_raw = open('%sNCI-H23_node_labels.txt'%path).read().split('\\n')[:-1]\n",
    "graph_labels_raw = open('%sNCI-H23_graph_labels.txt'%path).read().split('\\n')[:-1]"
   ]
  },
  {
   "cell_type": "code",
   "execution_count": null,
   "metadata": {},
   "outputs": [],
   "source": []
  },
  {
   "cell_type": "code",
   "execution_count": 5,
   "metadata": {},
   "outputs": [
    {
     "name": "stdout",
     "output_type": "stream",
     "text": [
      "1000\n",
      "2000\n",
      "3000\n",
      "4000\n",
      "5000\n",
      "6000\n",
      "7000\n",
      "8000\n",
      "9000\n",
      "10000\n",
      "11000\n",
      "12000\n",
      "13000\n",
      "14000\n",
      "15000\n",
      "16000\n",
      "17000\n",
      "18000\n",
      "19000\n",
      "20000\n",
      "21000\n",
      "22000\n",
      "23000\n",
      "24000\n",
      "25000\n",
      "26000\n",
      "27000\n",
      "28000\n",
      "29000\n",
      "30000\n",
      "31000\n",
      "32000\n",
      "33000\n",
      "34000\n",
      "35000\n",
      "36000\n",
      "37000\n",
      "38000\n",
      "39000\n",
      "40000\n",
      "Time: 1397.3600690364838\n"
     ]
    }
   ],
   "source": [
    "#####\n",
    "begin = time.time()\n",
    "track = 0\n",
    "start_node = 0\n",
    "start_edge = 0\n",
    "test = 0\n",
    "graphs = []\n",
    "#####\n",
    "for i in graph_labels_raw :\n",
    "    ###### Add graph target\n",
    "    data = {}\n",
    "    data['target'] = int(i)\n",
    "\n",
    "    ######\n",
    "    try:\n",
    "        num_nodes = graph_ID_of_nodes.index(str(track+2)) - start_node\n",
    "    except:\n",
    "        num_nodes = len(graph_ID_of_nodes) - int(graph_ID_of_nodes.index(str(track+1)))\n",
    "    \n",
    "    nodes_labels = node_labels_raw[start_node:num_nodes+start_node]\n",
    "    \n",
    "    \n",
    "    ###### Add node labels\n",
    "    data['labels'] = {'0':nodes_labels[0]}\n",
    "    nodes_identifier = 1\n",
    "    for label in nodes_labels[1:]:\n",
    "        data['labels'][str(nodes_identifier)] = label\n",
    "        nodes_identifier+=1\n",
    "       \n",
    "    ###### Add edges\n",
    "    edges = []\n",
    "    \n",
    "    for pair in edges_raw[start_edge:]:\n",
    "        last = int(pair.split(',')[-1])\n",
    "        first = int(pair.split(',')[0])\n",
    "\n",
    "        if last <= (start_node+num_nodes):\n",
    "            first = first - start_node -1\n",
    "            last = last - start_node -1\n",
    "            edges.append([first,last])\n",
    "        else:\n",
    "            break\n",
    "            \n",
    "    data['edges'] = edges\n",
    "    \n",
    "    graphs.append(data)\n",
    "    ####### update tracking\n",
    "    start_node+=num_nodes\n",
    "    start_edge+=len(edges)\n",
    "    track+=1\n",
    "    ######\n",
    "    if track % 1000 == 0:\n",
    "        print(track)\n",
    "\n",
    "\n",
    "print('Time: %s'%(time.time()-begin))\n",
    "    "
   ]
  },
  {
   "cell_type": "code",
   "execution_count": null,
   "metadata": {},
   "outputs": [],
   "source": []
  },
  {
   "cell_type": "code",
   "execution_count": 8,
   "metadata": {},
   "outputs": [],
   "source": [
    "sample = []\n",
    "count = 0\n",
    "track = 0\n",
    "X = []\n",
    "y = []\n",
    "\n",
    "ID = [i for i in range(len(graphs))]\n",
    "random.shuffle(ID)\n",
    "\n",
    "for i in ID:\n",
    "    if graphs[i]['target'] == 1:\n",
    "        sample.append(graphs[i])\n",
    "        X.append(track)\n",
    "        y.append(graphs[i]['target'])\n",
    "        track+=1\n",
    "        \n",
    "for i in ID:\n",
    "    if graphs[i]['target'] == 0:\n",
    "        sample.append(graphs[i])\n",
    "        X.append(track)\n",
    "        y.append(graphs[i]['target'])\n",
    "        track+=1\n",
    "        count+= 1\n",
    "    if count > 2100 :\n",
    "        break"
   ]
  },
  {
   "cell_type": "code",
   "execution_count": null,
   "metadata": {},
   "outputs": [],
   "source": []
  },
  {
   "cell_type": "code",
   "execution_count": 19,
   "metadata": {},
   "outputs": [],
   "source": [
    "X_train, X_test, y_train, y_test = train_test_split(X, y, test_size=0.3, random_state=42)"
   ]
  },
  {
   "cell_type": "code",
   "execution_count": null,
   "metadata": {},
   "outputs": [],
   "source": []
  },
  {
   "cell_type": "code",
   "execution_count": null,
   "metadata": {},
   "outputs": [],
   "source": []
  },
  {
   "cell_type": "code",
   "execution_count": 20,
   "metadata": {},
   "outputs": [],
   "source": [
    "####### Save file\n",
    "track = 0\n",
    "for i in X_train:\n",
    "    outdir = './input/train/'\n",
    "    outfile = open(os.path.join(outdir,os.path.basename('graph_%s.json'%track)),'w')\n",
    "    outfile.write(json.dumps(sample[i]))  \n",
    "    outfile.close()\n",
    "    ########\n",
    "    track+=1\n",
    "    ######\n",
    "\n",
    "for i in X_test:\n",
    "    outdir = './input/test/'\n",
    "    outfile = open(os.path.join(outdir,os.path.basename('graph_%s.json'%track)),'w')\n",
    "    outfile.write(json.dumps(sample[i]))  \n",
    "    outfile.close()\n",
    "    ########\n",
    "    track+=1\n",
    "    ######"
   ]
  },
  {
   "cell_type": "code",
   "execution_count": null,
   "metadata": {},
   "outputs": [],
   "source": []
  }
 ],
 "metadata": {
  "kernelspec": {
   "display_name": "Python 3",
   "language": "python",
   "name": "python3"
  },
  "language_info": {
   "codemirror_mode": {
    "name": "ipython",
    "version": 3
   },
   "file_extension": ".py",
   "mimetype": "text/x-python",
   "name": "python",
   "nbconvert_exporter": "python",
   "pygments_lexer": "ipython3",
   "version": "3.7.3"
  }
 },
 "nbformat": 4,
 "nbformat_minor": 2
}
