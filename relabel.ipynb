{
 "cells": [
  {
   "cell_type": "code",
   "execution_count": 82,
   "metadata": {},
   "outputs": [],
   "source": [
    "import os\n",
    "import sys\n",
    "import json\n",
    "import time\n",
    "import copy"
   ]
  },
  {
   "cell_type": "code",
   "execution_count": 105,
   "metadata": {},
   "outputs": [],
   "source": [
    "labels_list = []\n",
    "buffer = []\n",
    "labels_dict_multitask = {}\n",
    "track = 0\n",
    "for each in os.listdir('./data/GraphData/'):\n",
    "    current_labels_list = open('./data/GraphData/%s/mapping.txt'%each).read().split('\\n')[:-1]\n",
    "    count = 0\n",
    "    for label in current_labels_list:\n",
    "        pair = label.split(' ')\n",
    "        if track == 0:\n",
    "            buffer.append(pair[0])\n",
    "        \n",
    "        elif pair[0] not in labels_list:\n",
    "            labels_list.insert(count,pair[0])\n",
    "            count+=2\n",
    "        \n",
    "        else:\n",
    "            count+=1\n",
    "    \n",
    "    if track == 0:\n",
    "        labels_list = copy.copy(buffer)\n",
    "        track = 1\n",
    "\n",
    "count = 0\n",
    "for each in labels_list:\n",
    "    labels_dict_multitask[each] = '%s'%count\n",
    "    count+=1"
   ]
  },
  {
   "cell_type": "code",
   "execution_count": null,
   "metadata": {},
   "outputs": [],
   "source": []
  },
  {
   "cell_type": "code",
   "execution_count": null,
   "metadata": {},
   "outputs": [],
   "source": []
  },
  {
   "cell_type": "code",
   "execution_count": 108,
   "metadata": {},
   "outputs": [],
   "source": [
    "for each in os.listdir('./data/NCI_txt/'):\n",
    "    #####\n",
    "    current_node_labels = open('./data/NCI_txt/%s/%s_node_labels.txt'%(each,each)).read().split('\\n')[:-1]\n",
    "    current_labels_list = open('./data/GraphData/%s/mapping.txt'%each).read().split('\\n')[:-1]\n",
    "    \n",
    "    #####\n",
    "    current_labels_dict = {}\n",
    "    for label in current_labels_list:\n",
    "        pair = label.split(' ')\n",
    "        current_labels_dict[pair[1]] = pair[0]\n",
    "    \n",
    "    #####\n",
    "    OutDir = './data/NCI_txt/%s'%each\n",
    "    OutFile = open(os.path.join(OutDir, os.path.basename(each+'_node_labels_multitask.txt')), 'w')\n",
    "    \n",
    "    for label in current_node_labels:\n",
    "        new_label = labels_dict_multitask[current_labels_dict[label]]\n",
    "\n",
    "        OutFile.write('%s\\n'%new_label)\n",
    "    #####\n",
    "    OutFile.close()"
   ]
  },
  {
   "cell_type": "code",
   "execution_count": null,
   "metadata": {},
   "outputs": [],
   "source": []
  },
  {
   "cell_type": "code",
   "execution_count": null,
   "metadata": {},
   "outputs": [],
   "source": []
  },
  {
   "cell_type": "code",
   "execution_count": null,
   "metadata": {},
   "outputs": [],
   "source": []
  }
 ],
 "metadata": {
  "kernelspec": {
   "display_name": "Python 3",
   "language": "python",
   "name": "python3"
  },
  "language_info": {
   "codemirror_mode": {
    "name": "ipython",
    "version": 3
   },
   "file_extension": ".py",
   "mimetype": "text/x-python",
   "name": "python",
   "nbconvert_exporter": "python",
   "pygments_lexer": "ipython3",
   "version": "3.7.3"
  }
 },
 "nbformat": 4,
 "nbformat_minor": 2
}
